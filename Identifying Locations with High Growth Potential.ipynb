{
 "cells": [
  {
   "cell_type": "markdown",
   "metadata": {},
   "source": [
    "# Identifying Locations with High Growth Potential\n",
    "\n",
    " \n",
    "### Overview\n",
    "Our objective is to identify areas across the country with high growth potential for life insurance sales. Current tools in the market can provide underlying data, but they rely on users to perform their own analysis, and the software can be costly.\n",
    "\n",
    "To address this problem, we use publicly available tax data and a deep learning algorithm to generate a growth index. This index effectively identifies areas with the highest growth potential for life insurance sales.\n",
    "\n",
    "### Source Data\n",
    "We are using a publicly available data set: Individual income tax data by zip code, available from the [IRS Website](https://www.irs.gov/statistics/soi-tax-stats-individual-income-tax-statistics-zip-code-data-soi). This data contains information such as number of joint returns, number of dependents, salaries & wages, and number of returns with property taxes. The data is split by state, zip code, and adjusted gross income (AGI) bucket.\n",
    "\n",
    "### Predictive Model\n",
    "To create a growth index by zip code and AGI bucket, we need to project the number of returns, number of dependents, etc. over the next several years. To do so, we need a regression algorithm that is specific to each zip code and AGI bucket. There are about 80,000+ combinations of zip code and AGI bucket in the U.S., so creating 80,000+ regressions can be computationally intensive. Therefore, we utilize a deep learning algorithm which has some advantages:\n",
    "- Traditional regression algorithms have improved performance by carefully selecting and designing input variables. The performance of a deep learning algorithm is less dependent on variable selection and design due to the complex, non-linear nature of the algorithm.\n",
    "- For cohorts with sparse data, it will rely on aggregate trends to supplement credibility gaps.\n",
    "- The run time and model performance is superior to creating individual regression models for each cohort.\n",
    "- Multiple output variables can be modeled simultaniously in the same model\n",
    "\n",
    "\n",
    "--------------------------------------------------------------"
   ]
  },
  {
   "cell_type": "markdown",
   "metadata": {},
   "source": [
    "## Beginning of Code\n",
    "\n",
    "We start by importing the necessary libraries for the model. We will be using the Keras library for the deep learning algorithm. Note that we are using Python and Keras versions 3.7.3 and 2.2.4 respectively."
   ]
  },
  {
   "cell_type": "code",
   "execution_count": 1,
   "metadata": {},
   "outputs": [
    {
     "name": "stderr",
     "output_type": "stream",
     "text": [
      "Using TensorFlow backend.\n"
     ]
    }
   ],
   "source": [
    "#Import Libraries\n",
    "import csv\n",
    "import itertools\n",
    "import numpy as np\n",
    "import matplotlib.pyplot as plt\n",
    "import keras\n",
    "from keras import regularizers\n",
    "from keras.models import Sequential\n",
    "from keras.utils import to_categorical\n",
    "from keras.layers import Dense, Activation, BatchNormalization"
   ]
  },
  {
   "cell_type": "markdown",
   "metadata": {},
   "source": [
    "## Data Preprocessing - Part 1\n",
    "\n",
    "In the next code block, we load data for years 2009 - 2016. The data can be downloaded from the [IRS Website](https://www.irs.gov/statistics/soi-tax-stats-individual-income-tax-statistics-zip-code-data-soi). To effectively run the code, extract the csv files for each year in the same folder as this python notebook. We have included state and AGI bucket filters to illustrate the model capabilities while managing run time.\n",
    "\n",
    "Seven fields are plucked from the data sets:\n",
    "1. State\n",
    "2. Zip Code\n",
    "3. AGI Cohort\n",
    "4. Number of joint returns - represents households with married couples\n",
    "5. Number of dependents - represents households with children\n",
    "6. Income and Wages - represents financial health\n",
    "7. Number of returns with real estate taxes - represents home ownership\n",
    "\n",
    "Fields 1-3 are model inputs and fields 4-7 are the outputs. These outputs are associated with life events which are key drivers of life insurance sales, based on an [article published by Deloitte](https://www2.deloitte.com/insights/us/en/industry/financial-services/marketing-life-insurance-in-a-digital-age.html )\n",
    "\n",
    "In the subsequent code block, we remove zip codes \"00000\" which represent totals for each state, and \"99999\" which are unknown zip codes."
   ]
  },
  {
   "cell_type": "code",
   "execution_count": 2,
   "metadata": {},
   "outputs": [],
   "source": [
    "#read in file names and append values of specific columns to rows of array\n",
    "filename_list = ['09zpallagi.csv','10zpallagi.csv','11zpallagi.csv','12zpallagi.csv','13zpallagi.csv','14zpallagi.csv','15zpallagi.csv','16zpallagi.csv']\n",
    "year_list = ['2009','2010','2011','2012','2013','2014','2015','2016']\n",
    "state_list = ['NV']\n",
    "agi_filter = ['4']\n",
    "data = []\n",
    "file_count = 0\n",
    "\n",
    "#Lowercase keys in Python Dictionaries\n",
    "def lower_first(iterator):\n",
    "    return itertools.chain([next(iterator).lower()],iterator)\n",
    "\n",
    "def load_data(filename, year):\n",
    "    with open(filename) as taxinput_file:\n",
    "        reader = csv.DictReader(lower_first(taxinput_file))\n",
    "        for row in reader:\n",
    "            if row['state'] in state_list and row['agi_stub'] in agi_filter:\n",
    "                data.append([row['zipcode'].zfill(5),row['agi_stub'],year,row['mars2'],row['numdep'],row['a00200'],row['n18500']])\n",
    "    return;\n",
    "\n",
    "for file in filename_list:\n",
    "    load_data(file, year_list[file_count])\n",
    "    file_count += 1"
   ]
  },
  {
   "cell_type": "code",
   "execution_count": 3,
   "metadata": {},
   "outputs": [],
   "source": [
    "# Strip out the zip codes \"00000\" (Totals for each state) and \"99999\" (unknown zip codes/not reported\n",
    "data_clean = []\n",
    "\n",
    "for row in data:\n",
    "    if row[0]=='00000' or row[0]=='99999':\n",
    "        continue\n",
    "    else:\n",
    "        data_clean.append(row)"
   ]
  },
  {
   "cell_type": "markdown",
   "metadata": {},
   "source": [
    "## Data Preprocessing - Part 2\n",
    "\n",
    "We continue preprocessing the data by splitting it into separate train and test data sets. The test data set allows us to identify when overfitting is occuring, and we apply an L2 regularization parameter to compensate. Notice that the training data is based on years 2009-2015, and the test data is based on 2016. We chose this approach instead of a random sampling because the model's objective is optimize extrapolation of data points instead of interpolation and extrapolation.\n",
    "\n",
    "Then, we create a unique list of all zip codes and remove data set records where zip codes were newly created or removed throughout time. This provides a cleaner basis for the data."
   ]
  },
  {
   "cell_type": "code",
   "execution_count": 4,
   "metadata": {},
   "outputs": [],
   "source": [
    "#Split data between test and train\n",
    "train_year = ['2009','2010','2011','2012','2013','2014','2015']\n",
    "train_data = []\n",
    "test_data = []\n",
    "\n",
    "for row in data_clean:\n",
    "    if row[2] in train_year:\n",
    "        train_data.append(row)\n",
    "    else:\n",
    "        test_data.append(row)\n",
    "\n",
    "train_data = np.array(train_data)\n",
    "test_data = np.array(test_data)"
   ]
  },
  {
   "cell_type": "code",
   "execution_count": 5,
   "metadata": {},
   "outputs": [],
   "source": [
    "#Create a unique list of zip codes and filter to include only zip codes in all years\n",
    "unique_zipcode_list = []\n",
    "\n",
    "for row in train_data:\n",
    "    if row[2] == train_year[0] and row[0] not in unique_zipcode_list:\n",
    "        unique_zipcode_list.append(row[0])\n",
    "    else:\n",
    "        continue\n",
    "\n",
    "for zipcode in unique_zipcode_list:\n",
    "    if zipcode not in train_data[:,0] or zipcode not in test_data[:,0]:\n",
    "        unique_zipcode_list.remove(zipcode)\n",
    "    else:\n",
    "        continue"
   ]
  },
  {
   "cell_type": "code",
   "execution_count": 6,
   "metadata": {},
   "outputs": [],
   "source": [
    "#Delete records from the training data with zip codes not in the unique zip code list\n",
    "filter_list = []\n",
    "row_count = 0\n",
    "\n",
    "for row in train_data:\n",
    "    if row[0] in unique_zipcode_list:\n",
    "        filter_list.append(row_count)\n",
    "    row_count += 1\n",
    "\n",
    "train_data = train_data[filter_list]"
   ]
  },
  {
   "cell_type": "code",
   "execution_count": 7,
   "metadata": {},
   "outputs": [],
   "source": [
    "#Delete records from the training data with zip codes not in the unique zip code list\n",
    "filter_list = []\n",
    "row_count = 0\n",
    "\n",
    "for row in test_data:\n",
    "    if row[0] in unique_zipcode_list:\n",
    "        filter_list.append(row_count)\n",
    "    row_count += 1\n",
    "    \n",
    "test_data = test_data[filter_list]"
   ]
  },
  {
   "cell_type": "markdown",
   "metadata": {},
   "source": [
    "## Data Preprocessing - Part 3\n",
    "\n",
    "The next three code blocks perform the following functions:\n",
    "\n",
    "1. We shuffle the data to improve mini-batch gradient descent performance\n",
    "2. Columns are split into input variables (x) and output variables (y)\n",
    "3. Output variables are normalized to improve training performance\n",
    "4. Zip codes are nominal variables (the order does not matter). Deep learning algorithms perform significantly better if nominal values are one-hot encoded. This means creating a separate column for each zip code with a binary indicator (1 or 0) for each row where the zip code is applicable."
   ]
  },
  {
   "cell_type": "code",
   "execution_count": 8,
   "metadata": {},
   "outputs": [],
   "source": [
    "#Shuffle training data by row and split input and output for use in model\n",
    "row = np.random.choice(train_data.shape[0], train_data.shape[0], replace = False)\n",
    "train_data = train_data[row]\n",
    "\n",
    "x_columns = 3\n",
    "y_columns = train_data.shape[1]\n",
    "\n",
    "x_train = train_data[0:,0:x_columns]\n",
    "y_train = np.array(train_data[0:,x_columns:y_columns], dtype=float)\n",
    "x_test = test_data[0:,0:x_columns]\n",
    "y_test = np.array(test_data[0:,x_columns:y_columns], dtype=float)"
   ]
  },
  {
   "cell_type": "code",
   "execution_count": 9,
   "metadata": {},
   "outputs": [],
   "source": [
    "#Normalize Output Variables\n",
    "y_train_mean = np.mean(y_train, axis=0)\n",
    "y_train_stdev = np.std(y_train, axis=0)\n",
    "\n",
    "y_train_norm = np.divide(y_train - y_train_mean, y_train_stdev)\n",
    "y_test_norm = np.divide(y_test - y_train_mean, y_train_stdev)"
   ]
  },
  {
   "cell_type": "code",
   "execution_count": 10,
   "metadata": {},
   "outputs": [],
   "source": [
    "#One hot encode training data\n",
    "x_train_encode = np.zeros((x_train.shape[0],len(unique_zipcode_list)))\n",
    "unique_zipcode_list = np.array(unique_zipcode_list)\n",
    "\n",
    "for row in range(x_train.shape[0]): \n",
    "    x_train_encode[row,x_train[row,0]== unique_zipcode_list] = 1\n",
    "\n",
    "x_train_encode = np.array(np.append(x_train_encode,x_train[0:,1:3],axis = 1), dtype=float)"
   ]
  },
  {
   "cell_type": "code",
   "execution_count": 11,
   "metadata": {},
   "outputs": [],
   "source": [
    "#One hot encode test data\n",
    "x_test_encode = np.zeros((x_test.shape[0],len(unique_zipcode_list)))\n",
    "unique_zipcode_list = np.array(unique_zipcode_list)\n",
    "\n",
    "for row in range(x_test.shape[0]): \n",
    "    x_test_encode[row,x_test[row,0]== unique_zipcode_list] = 1\n",
    "    \n",
    "x_test_encode = np.array(np.append(x_test_encode,x_test[0:,1:3],axis = 1), dtype=float)"
   ]
  },
  {
   "cell_type": "markdown",
   "metadata": {},
   "source": [
    "## Building and Training the Model\n",
    "- We clear any parameters that may have been run previously.\n",
    "- We defined the deep network architecture using the `model.add` method from Keras\n",
    "   - `BatchNormalization()` at the start and between layers normalizes inputs for faster training\n",
    "   - The model has 4 hidden layers with 100, 50, 25, 10 activation nodes respectively. \n",
    "   - Each hidden layer uses a rectified linear unit (ReLU) activation function. This returns a linear function for positive parameters, and zero for negative parameters.\n",
    "   - The model has an output layer with 4 linear regression outputs. The deep learning algorithm allows us to model all four target output variables simultaniously instead of needing 4 separate models.\n",
    "   - The model employs L2 regularization in each layer, and the regularization parameter has been tuned to reduce overfitting in the output.\n",
    "- For the model optimizer, we are using Adam optimization, a variant of gradient descent\n",
    "- Since the output layer is linear, we decided to use mean squared error for the loss function\n",
    "- The model is trained using mini-batches (runs 5,000 records at a time), and 20,000 epochs (full iterations of the data set)"
   ]
  },
  {
   "cell_type": "code",
   "execution_count": 16,
   "metadata": {},
   "outputs": [],
   "source": [
    "#Clear weights between model runs\n",
    "keras.backend.clear_session()"
   ]
  },
  {
   "cell_type": "code",
   "execution_count": 17,
   "metadata": {},
   "outputs": [],
   "source": [
    "#Deep Learning Model\n",
    "model = Sequential()\n",
    "model.add(BatchNormalization())\n",
    "model.add(Dense(100, activation='relu', kernel_regularizer=regularizers.l2(0.2)))\n",
    "model.add(BatchNormalization())\n",
    "model.add(Dense(50, activation='relu', kernel_regularizer=regularizers.l2(0.2)))\n",
    "model.add(BatchNormalization())\n",
    "model.add(Dense(25, activation='relu', kernel_regularizer=regularizers.l2(0.2)))\n",
    "model.add(BatchNormalization())\n",
    "model.add(Dense(10, activation='relu', kernel_regularizer=regularizers.l2(0.2)))\n",
    "model.add(BatchNormalization())\n",
    "model.add(Dense(4,kernel_regularizer=regularizers.l2(0.2)))"
   ]
  },
  {
   "cell_type": "code",
   "execution_count": 18,
   "metadata": {},
   "outputs": [],
   "source": [
    "#Loss Function\n",
    "adam_opt = keras.optimizers.Adam(lr=0.001,beta_1=0.99)\n",
    "model.compile(optimizer = adam_opt, loss='mean_squared_error')"
   ]
  },
  {
   "cell_type": "code",
   "execution_count": 19,
   "metadata": {},
   "outputs": [
    {
     "name": "stdout",
     "output_type": "stream",
     "text": [
      "Starting Loss=1082.6692254\n",
      "Epoch 1000 complete : Train_Loss=0.1271545 : Test_Loss:0.1467361\n",
      "Epoch 2000 complete : Train_Loss=0.0538417 : Test_Loss:0.0715677\n",
      "Epoch 3000 complete : Train_Loss=0.0412756 : Test_Loss:0.0589698\n",
      "Epoch 4000 complete : Train_Loss=0.0324949 : Test_Loss:0.051852\n",
      "Epoch 5000 complete : Train_Loss=0.0278636 : Test_Loss:0.0448968\n",
      "Epoch 6000 complete : Train_Loss=0.0240046 : Test_Loss:0.0397897\n",
      "Epoch 7000 complete : Train_Loss=0.0207874 : Test_Loss:0.0350065\n",
      "Epoch 8000 complete : Train_Loss=0.1340252 : Test_Loss:0.1298236\n",
      "Epoch 9000 complete : Train_Loss=0.0159977 : Test_Loss:0.0284639\n",
      "Epoch 10000 complete : Train_Loss=0.0151543 : Test_Loss:0.0269539\n",
      "Epoch 11000 complete : Train_Loss=0.0146448 : Test_Loss:0.0256589\n",
      "Epoch 12000 complete : Train_Loss=0.1179967 : Test_Loss:0.1353134\n",
      "Epoch 13000 complete : Train_Loss=0.0052528 : Test_Loss:0.0139628\n",
      "Epoch 14000 complete : Train_Loss=0.0053809 : Test_Loss:0.013802\n",
      "Epoch 15000 complete : Train_Loss=0.0065301 : Test_Loss:0.0159719\n",
      "Epoch 16000 complete : Train_Loss=0.003388 : Test_Loss:0.0133884\n",
      "Epoch 17000 complete : Train_Loss=0.0039044 : Test_Loss:0.0142689\n",
      "Epoch 18000 complete : Train_Loss=0.0080016 : Test_Loss:0.0167013\n",
      "Epoch 19000 complete : Train_Loss=0.0037693 : Test_Loss:0.0132897\n",
      "Epoch 20000 complete : Train_Loss=0.0035554 : Test_Loss:0.0143958\n",
      "\n",
      "Test set loss: 0.014395815926411796\n"
     ]
    }
   ],
   "source": [
    "#Train Model (takes < 5 minutes to run)\n",
    "print(\"Starting Loss=\"+str(round(model.evaluate(x_train_encode, y_train_norm, verbose = 0),7)))\n",
    "\n",
    "for i in range(20):\n",
    "    model.fit(x_train_encode, y_train_norm, verbose = 0, epochs = 1000, batch_size = 5000)\n",
    "    print(\"Epoch \"+str((i+1)*1000)+\" complete : Train_Loss=\"+\n",
    "          str(round(model.evaluate(x_train_encode, y_train_norm, verbose=0),7))+\n",
    "         \" : Test_Loss:\" + str(round(model.evaluate(x_test_encode, y_test_norm, verbose=0),7)))\n",
    "    i += 1\n",
    "\n",
    "print(\"\")\n",
    "print(\"Test set loss: \" + str(model.evaluate(x_test_encode, y_test_norm, verbose=0)))"
   ]
  },
  {
   "cell_type": "markdown",
   "metadata": {},
   "source": [
    "## Model Summary\n",
    "The next cell provides a summary of the deep network architecture. Notice that ***20,155*** parameters are being trained! This is how the model is able to create regression functions for all the different zip code and AGI bucket cohorts."
   ]
  },
  {
   "cell_type": "code",
   "execution_count": 20,
   "metadata": {
    "scrolled": true
   },
   "outputs": [
    {
     "name": "stdout",
     "output_type": "stream",
     "text": [
      "_________________________________________________________________\n",
      "Layer (type)                 Output Shape              Param #   \n",
      "=================================================================\n",
      "batch_normalization_1 (Batch (None, 128)               512       \n",
      "_________________________________________________________________\n",
      "dense_1 (Dense)              (None, 100)               12900     \n",
      "_________________________________________________________________\n",
      "batch_normalization_2 (Batch (None, 100)               400       \n",
      "_________________________________________________________________\n",
      "dense_2 (Dense)              (None, 50)                5050      \n",
      "_________________________________________________________________\n",
      "batch_normalization_3 (Batch (None, 50)                200       \n",
      "_________________________________________________________________\n",
      "dense_3 (Dense)              (None, 25)                1275      \n",
      "_________________________________________________________________\n",
      "batch_normalization_4 (Batch (None, 25)                100       \n",
      "_________________________________________________________________\n",
      "dense_4 (Dense)              (None, 10)                260       \n",
      "_________________________________________________________________\n",
      "batch_normalization_5 (Batch (None, 10)                40        \n",
      "_________________________________________________________________\n",
      "dense_5 (Dense)              (None, 4)                 44        \n",
      "=================================================================\n",
      "Total params: 20,781\n",
      "Trainable params: 20,155\n",
      "Non-trainable params: 626\n",
      "_________________________________________________________________\n"
     ]
    }
   ],
   "source": [
    "model.summary()"
   ]
  },
  {
   "cell_type": "markdown",
   "metadata": {},
   "source": [
    "## Visualizing a Sample Zip Code\n",
    "The following code block creates a graph for a sample zip code. Notice how the model is able to effectively trend each of the output variables from 2017 through 2020."
   ]
  },
  {
   "cell_type": "code",
   "execution_count": 21,
   "metadata": {},
   "outputs": [
    {
     "data": {
      "text/plain": [
       "<function matplotlib.pyplot.show(*args, **kw)>"
      ]
     },
     "execution_count": 21,
     "metadata": {},
     "output_type": "execute_result"
    },
    {
     "data": {
      "image/png": "[encoded data removed]",
      "text/plain": [
       "<Figure size 432x288 with 1 Axes>"
      ]
     },
     "metadata": {
      "needs_background": "light"
     },
     "output_type": "display_data"
    }
   ],
   "source": [
    "#Plot the projections for a sample zip code\n",
    "sample_zip_code = '89117'\n",
    "sample_list_train = x_train[:,0] == sample_zip_code\n",
    "forecast_yrs = np.array([2016, 2017, 2018, 2019, 2020])\n",
    "\n",
    "enc_1 = x_test_encode[x_test[:,0] == sample_zip_code,:-1]\n",
    "x_forecast = np.column_stack((np.vstack((enc_1,enc_1,enc_1,enc_1,enc_1)),forecast_yrs))\n",
    "y_forecast = np.column_stack((x_train[sample_list_train,:-1][0:5,:],forecast_yrs,\n",
    "                              model.predict(x_forecast) * y_train_stdev + y_train_mean))    \n",
    "\n",
    "sample_zip_train = np.hstack((x_train[sample_list_train],y_train[sample_list_train]))\n",
    "sample_zip = np.vstack((sample_zip_train[np.argsort(sample_zip_train[:,2])],y_forecast))\n",
    "\n",
    "plt.plot(sample_zip[:,2], sample_zip[:,3].astype(np.float), '.-', label='Married Couples')\n",
    "plt.plot(sample_zip[:,2], sample_zip[:,4].astype(np.float), '.-', label='Children')\n",
    "plt.plot(sample_zip[:,2], sample_zip[:,6].astype(np.float), '.-', label='Home Ownership')\n",
    "plt.ylabel('Count')\n",
    "plt.xlabel('Tax Reporting Year')\n",
    "plt.legend()\n",
    "plt.title(\"Key Indicators Forecast for zip code \" + sample_zip_code)\n",
    "\n",
    "plt.show"
   ]
  },
  {
   "cell_type": "markdown",
   "metadata": {},
   "source": [
    "## Generating a Growth Index\n",
    "Finally, we use the predictive model we've created to estimate output variables (# of returns, dependents, etc.) for all zip codes. This information is transformed into a growth index which can be used to inform life insurance companies of high potential zip codes for growth opportunities. The weights for each output variable in the growth index is based on the previously mentioned [Deloitte article](https://www2.deloitte.com/insights/us/en/industry/financial-services/marketing-life-insurance-in-a-digital-age.html).\n",
    "\n",
    "In the output, we are reporting the top ten locations with highest growth potential."
   ]
  },
  {
   "cell_type": "code",
   "execution_count": 22,
   "metadata": {},
   "outputs": [
    {
     "name": "stdout",
     "output_type": "stream",
     "text": [
      "Top 10 Locations with Growth Potential:\n",
      "\n",
      "Zip Code - Growth Index\n",
      "[['89117' '0.378']\n",
      " ['89031' '0.313']\n",
      " ['89123' '0.311']\n",
      " ['89130' '0.298']\n",
      " ['89147' '0.294']\n",
      " ['89143' '0.282']\n",
      " ['89128' '0.276']\n",
      " ['89115' '0.273']\n",
      " ['89002' '0.267']\n",
      " ['89523' '0.258']]\n"
     ]
    }
   ],
   "source": [
    "#Generate 2020 predictions\n",
    "x_forecast = np.column_stack((x_test_encode[:,:-1],np.ones(x_test_encode.shape[0])*2017))\n",
    "y_forecast_norm = model.predict(x_forecast)\n",
    "\n",
    "#Calculate growth index\n",
    "growth_factors = [0.24, 0.28, 0.24, 0.24]\n",
    "y_test_growth = np.sum(np.multiply(y_test_norm,growth_factors),axis=1)\n",
    "\n",
    "y_forecast_growth = np.sum(np.multiply(y_forecast_norm,growth_factors),axis=1)\n",
    "\n",
    "growth_index = np.column_stack((x_test[:,0:2],np.round(y_forecast_growth - y_test_growth, 3)))\n",
    "growth_index = growth_index[np.argsort(-growth_index[:,2].astype(np.float))]\n",
    "\n",
    "print(\"Top 10 Locations with Growth Potential:\")\n",
    "print(\"\")\n",
    "print(\"Zip Code - Growth Index\")\n",
    "print(growth_index[0:10,[0,2]])"
   ]
  },
  {
   "cell_type": "code",
   "execution_count": null,
   "metadata": {},
   "outputs": [],
   "source": []
  }
 ],
 "metadata": {
  "kernelspec": {
   "display_name": "Python 3",
   "language": "python",
   "name": "python3"
  },
  "language_info": {
   "codemirror_mode": {
    "name": "ipython",
    "version": 3
   },
   "file_extension": ".py",
   "mimetype": "text/x-python",
   "name": "python",
   "nbconvert_exporter": "python",
   "pygments_lexer": "ipython3",
   "version": "3.7.3"
  }
 },
 "nbformat": 4,
 "nbformat_minor": 2
}
